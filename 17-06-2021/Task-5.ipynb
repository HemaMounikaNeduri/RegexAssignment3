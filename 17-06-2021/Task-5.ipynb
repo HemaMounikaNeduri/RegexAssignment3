{
 "cells": [
  {
   "cell_type": "markdown",
   "id": "e5544561",
   "metadata": {},
   "source": [
    "# Task-5\n",
    "# Name:Neduri Hema Mounika\n",
    "# Regd-no: SIRSS1208"
   ]
  },
  {
   "cell_type": "markdown",
   "id": "b0e75736",
   "metadata": {},
   "source": [
    "# 1. Given a list of integers, write a function to return the sum of all prime numbers in that list."
   ]
  },
  {
   "cell_type": "code",
   "execution_count": 1,
   "id": "e6134f14",
   "metadata": {},
   "outputs": [
    {
     "name": "stdout",
     "output_type": "stream",
     "text": [
      "enter numbers:12 13 24 35 17\n",
      "Sum of Prime numbers in givent list is :  30\n"
     ]
    }
   ],
   "source": [
    "def prime(n):\n",
    "    if n==1 or n==0:\n",
    "        return False\n",
    "    for i in range(2,n//2):\n",
    "        if n%i==0:\n",
    "            return False\n",
    "    return True\n",
    "def sumPrime(l):\n",
    "    s=0\n",
    "    for i in l:\n",
    "        if(prime(i)):\n",
    "            s+=i\n",
    "    return s\n",
    "if __name__=='__main__':\n",
    "    l=list(map(int,input(\"enter numbers:\").split()))\n",
    "    print(\"Sum of Prime numbers in givent list is : \",sumPrime(l))"
   ]
  },
  {
   "cell_type": "markdown",
   "id": "16aaa77e",
   "metadata": {},
   "source": [
    "# 2. Given a list of integers, write a function to check whether the list is strictly increasing or not."
   ]
  },
  {
   "cell_type": "code",
   "execution_count": 3,
   "id": "845736b0",
   "metadata": {},
   "outputs": [
    {
     "name": "stdout",
     "output_type": "stream",
     "text": [
      "enter numbers in the list:12 14 25 36 48\n",
      "List is Strictly Increasing ?:  True\n"
     ]
    }
   ],
   "source": [
    "def strict(l):\n",
    "    res = all(i < j for i, j in zip(l, l[1:]))\n",
    "    return res\n",
    "if __name__=='__main__':\n",
    "    l=list(map(int,input(\"enter numbers in the list:\").split()))\n",
    "    print(\"List is Strictly Increasing ?: \",strict(l))"
   ]
  },
  {
   "cell_type": "markdown",
   "id": "ead7e193",
   "metadata": {},
   "source": [
    "# 3. Write a function to check whether a given list is expanding or not (the difference between adjacent elements should keep on increasing)."
   ]
  },
  {
   "cell_type": "code",
   "execution_count": 5,
   "id": "643d6b19",
   "metadata": {},
   "outputs": [
    {
     "name": "stdout",
     "output_type": "stream",
     "text": [
      "enter numbers:1 2 3 4 5 62\n",
      "List is Expanding ?: \n",
      "True\n"
     ]
    }
   ],
   "source": [
    "def expand(k):\n",
    "    diff1=k[1]-k[0]\n",
    "    for i in range(2,len(k)):\n",
    "        diff=k[i]-k[i-1]\n",
    "        if(diff<diff1):\n",
    "            print('False')\n",
    "            break\n",
    "    else:\n",
    "        print('True')\n",
    "if __name__=='__main__':\n",
    "    l=list(map(int,input(\"enter numbers:\").split()))\n",
    "    print(\"List is Expanding ?: \")\n",
    "    expand(l)"
   ]
  },
  {
   "cell_type": "markdown",
   "id": "d9cf6617",
   "metadata": {},
   "source": [
    "# 4. Write a function to calculate all permutations of a given string. (Without using itertools)"
   ]
  },
  {
   "cell_type": "code",
   "execution_count": 6,
   "id": "480f2df0",
   "metadata": {},
   "outputs": [
    {
     "name": "stdout",
     "output_type": "stream",
     "text": [
      "enter string:mouni\n",
      "Permutations of given string mouni are\n",
      "mouni\n",
      "mouin\n",
      "monui\n",
      "moniu\n",
      "moinu\n",
      "moiun\n",
      "muoni\n",
      "muoin\n",
      "munoi\n",
      "munio\n",
      "muino\n",
      "muion\n",
      "mnuoi\n",
      "mnuio\n",
      "mnoui\n",
      "mnoiu\n",
      "mniou\n",
      "mniuo\n",
      "miuno\n",
      "miuon\n",
      "minuo\n",
      "minou\n",
      "mionu\n",
      "mioun\n",
      "omuni\n",
      "omuin\n",
      "omnui\n",
      "omniu\n",
      "ominu\n",
      "omiun\n",
      "oumni\n",
      "oumin\n",
      "ounmi\n",
      "ounim\n",
      "ouinm\n",
      "ouimn\n",
      "onumi\n",
      "onuim\n",
      "onmui\n",
      "onmiu\n",
      "onimu\n",
      "onium\n",
      "oiunm\n",
      "oiumn\n",
      "oinum\n",
      "oinmu\n",
      "oimnu\n",
      "oimun\n",
      "uomni\n",
      "uomin\n",
      "uonmi\n",
      "uonim\n",
      "uoinm\n",
      "uoimn\n",
      "umoni\n",
      "umoin\n",
      "umnoi\n",
      "umnio\n",
      "umino\n",
      "umion\n",
      "unmoi\n",
      "unmio\n",
      "unomi\n",
      "unoim\n",
      "uniom\n",
      "unimo\n",
      "uimno\n",
      "uimon\n",
      "uinmo\n",
      "uinom\n",
      "uionm\n",
      "uiomn\n",
      "noumi\n",
      "nouim\n",
      "nomui\n",
      "nomiu\n",
      "noimu\n",
      "noium\n",
      "nuomi\n",
      "nuoim\n",
      "numoi\n",
      "numio\n",
      "nuimo\n",
      "nuiom\n",
      "nmuoi\n",
      "nmuio\n",
      "nmoui\n",
      "nmoiu\n",
      "nmiou\n",
      "nmiuo\n",
      "niumo\n",
      "niuom\n",
      "nimuo\n",
      "nimou\n",
      "niomu\n",
      "nioum\n",
      "iounm\n",
      "ioumn\n",
      "ionum\n",
      "ionmu\n",
      "iomnu\n",
      "iomun\n",
      "iuonm\n",
      "iuomn\n",
      "iunom\n",
      "iunmo\n",
      "iumno\n",
      "iumon\n",
      "inuom\n",
      "inumo\n",
      "inoum\n",
      "inomu\n",
      "inmou\n",
      "inmuo\n",
      "imuno\n",
      "imuon\n",
      "imnuo\n",
      "imnou\n",
      "imonu\n",
      "imoun\n"
     ]
    }
   ],
   "source": [
    "def toString(lst):\n",
    "    return ''.join(lst)\n",
    "def permute(a, l, r):\n",
    "    if l==r:\n",
    "        print(toString(a))\n",
    "    else:\n",
    "        for i in range(l,r+1):\n",
    "            a[l], a[i] = a[i], a[l]\n",
    "            permute(a, l+1, r)\n",
    "            a[l], a[i] = a[i], a[l] \n",
    "\n",
    "if __name__=='__main__':\n",
    "    string = input(\"enter string:\")\n",
    "    n = len(string)\n",
    "    a = list(string)\n",
    "    print('Permutations of given string '+string+' are')\n",
    "    permute(a, 0, n-1)"
   ]
  }
 ],
 "metadata": {
  "kernelspec": {
   "display_name": "Python 3",
   "language": "python",
   "name": "python3"
  },
  "language_info": {
   "codemirror_mode": {
    "name": "ipython",
    "version": 3
   },
   "file_extension": ".py",
   "mimetype": "text/x-python",
   "name": "python",
   "nbconvert_exporter": "python",
   "pygments_lexer": "ipython3",
   "version": "3.8.8"
  }
 },
 "nbformat": 4,
 "nbformat_minor": 5
}

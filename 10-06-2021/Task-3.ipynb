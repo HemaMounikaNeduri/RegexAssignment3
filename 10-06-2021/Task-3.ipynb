{
 "cells": [
  {
   "cell_type": "markdown",
   "id": "b7fa3b02",
   "metadata": {},
   "source": [
    "# Name-Neduri Hema Mounika\n",
    "# Redg id-SIRSS1208"
   ]
  },
  {
   "cell_type": "markdown",
   "id": "09e80910",
   "metadata": {},
   "source": [
    "# 1.Write a function to return nth term of Fibonacci sequence."
   ]
  },
  {
   "cell_type": "code",
   "execution_count": 9,
   "id": "e550eb69",
   "metadata": {},
   "outputs": [
    {
     "name": "stdout",
     "output_type": "stream",
     "text": [
      "Enter a value: 10\n",
      "10 th term of fibbonacci sequence is:  34\n"
     ]
    }
   ],
   "source": [
    "def fib(a):\n",
    "    if a<0:\n",
    "        print(\"Fibbonacci series can't generated \")\n",
    "    elif a==1:\n",
    "        return 0\n",
    "    elif a==2:\n",
    "        return 1\n",
    "    else:\n",
    "        return fib(a-1)+fib(a-2)\n",
    "if __name__=='__main__':\n",
    "    a= int(input(\"Enter a value: \"))\n",
    "    print(a,\"th term of fibbonacci sequence is: \",fib(a))"
   ]
  },
  {
   "cell_type": "markdown",
   "id": "f7611896",
   "metadata": {},
   "source": [
    "# 2.Write a function to find out GCD of two numbers using EUCLID'S algorithm."
   ]
  },
  {
   "cell_type": "code",
   "execution_count": 10,
   "id": "d6013819",
   "metadata": {},
   "outputs": [
    {
     "name": "stdout",
     "output_type": "stream",
     "text": [
      "Enter the value of a: 6\n",
      "Enter the value of b: 8\n",
      "GCD of  6 and 8 is : 2\n"
     ]
    }
   ],
   "source": [
    "def gcd(a,b):\n",
    "    if a==0:\n",
    "        return b\n",
    "    else:\n",
    "        return(gcd(b%a,a))\n",
    "if __name__=='__main__':\n",
    "    a= int(input(\"Enter the value of a: \"))\n",
    "    b= int(input(\"Enter the value of b: \"))\n",
    "    print(\"GCD of \",a,\"and\",b,\"is :\",gcd(a,b))"
   ]
  },
  {
   "cell_type": "markdown",
   "id": "ac5ed649",
   "metadata": {},
   "source": [
    "# 3.Write a function to find LCM of two number in most optimizers way."
   ]
  },
  {
   "cell_type": "code",
   "execution_count": 11,
   "id": "4386bc10",
   "metadata": {},
   "outputs": [
    {
     "name": "stdout",
     "output_type": "stream",
     "text": [
      "Enter the value of a: 15\n",
      "Enter the value of b: 5\n",
      "LCM of  15 and 5 is : 15\n"
     ]
    }
   ],
   "source": [
    "def gcd(a,b):\n",
    "    if a==0:\n",
    "        return b\n",
    "    else:\n",
    "        return(gcd(b%a,a))\n",
    "def lcm(a,b):\n",
    "    lcm=a*b//gcd(a,b)\n",
    "    return lcm\n",
    "if __name__=='__main__':\n",
    "    a= int(input(\"Enter the value of a: \"))\n",
    "    b= int(input(\"Enter the value of b: \"))\n",
    "    print(\"LCM of \",a,\"and\",b,\"is :\",lcm(a,b))"
   ]
  },
  {
   "cell_type": "code",
   "execution_count": null,
   "id": "7119c366",
   "metadata": {},
   "outputs": [],
   "source": []
  }
 ],
 "metadata": {
  "kernelspec": {
   "display_name": "Python 3",
   "language": "python",
   "name": "python3"
  },
  "language_info": {
   "codemirror_mode": {
    "name": "ipython",
    "version": 3
   },
   "file_extension": ".py",
   "mimetype": "text/x-python",
   "name": "python",
   "nbconvert_exporter": "python",
   "pygments_lexer": "ipython3",
   "version": "3.8.8"
  }
 },
 "nbformat": 4,
 "nbformat_minor": 5
}
